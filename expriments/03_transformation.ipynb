{
 "cells": [
  {
   "cell_type": "code",
   "execution_count": null,
   "metadata": {},
   "outputs": [],
   "source": [
    "import os\n",
    "from datasets import load_dataset, load_from_disk\n",
    "from transformers import AutoTokenizer\n",
    "from textsummarizer.logging import logger"
   ]
  },
  {
   "cell_type": "code",
   "execution_count": null,
   "metadata": {},
   "outputs": [],
   "source": [
    "%pwd"
   ]
  },
  {
   "cell_type": "code",
   "execution_count": null,
   "metadata": {},
   "outputs": [],
   "source": [
    "%cd .."
   ]
  },
  {
   "cell_type": "code",
   "execution_count": null,
   "metadata": {},
   "outputs": [],
   "source": [
    "%pwd"
   ]
  },
  {
   "cell_type": "code",
   "execution_count": null,
   "metadata": {},
   "outputs": [],
   "source": [
    "from dataclasses import dataclass\n",
    "from pathlib import Path\n",
    "\n",
    "\n",
    "@dataclass(frozen=True)\n",
    "class DataTransformation:\n",
    "    root_dir: Path\n",
    "    data_path: Path\n",
    "    tokenizer_name: str\n",
    "\n",
    "\n",
    "    def convert(self):\n",
    "        try: \n",
    "            dataset_samsum = load_from_disk(self.data_path)\n",
    "            dataset_samsum_pt = dataset_samsum.map(self.preprocess_function, batched = True)\n",
    "            dataset_samsum_pt.save_to_disk(os.path.join(self.root_dir,\"samsum_dataset\"))\n",
    "        except Exception as e:\n",
    "            raise e\n",
    "\n",
    "    def preprocess_function(self,example_batch):\n",
    "        try:\n",
    "            tokenizer = AutoTokenizer.from_pretrained(self.tokenizer_name)\n",
    "            input_encodings = tokenizer(example_batch['dialogue'] , max_length = 1024, truncation = True )\n",
    "            \n",
    "            with tokenizer.as_target_tokenizer():\n",
    "                target_encodings = tokenizer(example_batch['summary'], max_length = 128, truncation = True )\n",
    "                \n",
    "            return {\n",
    "                'input_ids' : input_encodings['input_ids'],\n",
    "                'attention_mask': input_encodings['attention_mask'],\n",
    "                'labels': target_encodings['input_ids']\n",
    "            }\n",
    "        except Exception as e:\n",
    "                raise e\n",
    "    \n",
    "\n",
    "\n",
    "\n",
    "\n",
    "# def __post_init__(self):\n",
    "#     self.tokenizer = AutoTokenizer.from_pretrained(self.tokenizer_name)"
   ]
  },
  {
   "cell_type": "code",
   "execution_count": null,
   "metadata": {},
   "outputs": [],
   "source": [
    "from textsummarizer.constants import *\n",
    "from textsummarizer.utils.common import read_yaml, create_directories\n"
   ]
  },
  {
   "cell_type": "code",
   "execution_count": null,
   "metadata": {},
   "outputs": [],
   "source": [
    "class ConfigHandler:\n",
    "    def __init__(\n",
    "        self,\n",
    "        config_filepath=CONFIG_FILE_PATH,\n",
    "        params_filepath=PARAMS_FILE_PATH):\n",
    "        \"\"\"\n",
    "        Initialize the ConfigHandler with the provided configuration and parameters file paths.\n",
    "\n",
    "        Args:\n",
    "            config_filepath: Path to the configuration file (default: CONFIG_FILE_PATH)\n",
    "            params_filepath: Path to the parameters file (default: PARAMS_FILE_PATH)\n",
    "\n",
    "        Returns:\n",
    "            None\n",
    "\n",
    "        \"\"\"\n",
    "        self.config = self._load_config(config_filepath)  # Load the configuration from the specified file\n",
    "        self.params = self._load_params(params_filepath)  # Load the parameters from the specified file\n",
    "\n",
    "        create_directories([self.config.artifacts_root])  # Create necessary directories based on the configuration\n",
    "\n",
    "    def _load_config(self, config_filepath):\n",
    "        \"\"\"\n",
    "        Load the configuration from the specified YAML file.\n",
    "\n",
    "        Args:\n",
    "            config_filepath: Path to the configuration file\n",
    "\n",
    "        Returns:\n",
    "            The loaded configuration as a dictionary\n",
    "\n",
    "        \"\"\"\n",
    "        return read_yaml(config_filepath)  # Read and return the configuration from the YAML file\n",
    "\n",
    "    def _load_params(self, params_filepath):\n",
    "        \"\"\"\n",
    "        Load the parameters from the specified YAML file.\n",
    "\n",
    "        Args:\n",
    "            params_filepath: Path to the parameters file\n",
    "\n",
    "        Returns:\n",
    "            The loaded parameters as a dictionary\n",
    "\n",
    "        \"\"\"\n",
    "        return read_yaml(params_filepath)  # Read and return the parameters from the YAML file\n",
    "\n",
    "    \n",
    "    def get_data_transformation_config(self) -> DataTransformation:\n",
    "        config = self.config.data_transformation\n",
    "\n",
    "        create_directories([config.root_dir])\n",
    "\n",
    "        data_transformation_config = DataTransformation(\n",
    "            root_dir=config.root_dir,\n",
    "            data_path=config.data_path,\n",
    "            tokenizer_name = config.tokenizer_name\n",
    "        )\n",
    "\n",
    "        return data_transformation_config"
   ]
  },
  {
   "cell_type": "code",
   "execution_count": null,
   "metadata": {},
   "outputs": [],
   "source": [
    "try:\n",
    "    config = ConfigHandler()\n",
    "    data_transformation_config = config.get_data_transformation_config()\n",
    "    data_transformation_config.convert()\n",
    "except Exception as e:\n",
    "    raise e"
   ]
  },
  {
   "cell_type": "code",
   "execution_count": null,
   "metadata": {},
   "outputs": [],
   "source": []
  }
 ],
 "metadata": {
  "kernelspec": {
   "display_name": "textS",
   "language": "python",
   "name": "python3"
  },
  "language_info": {
   "codemirror_mode": {
    "name": "ipython",
    "version": 3
   },
   "file_extension": ".py",
   "mimetype": "text/x-python",
   "name": "python",
   "nbconvert_exporter": "python",
   "pygments_lexer": "ipython3",
   "version": "3.12.2"
  }
 },
 "nbformat": 4,
 "nbformat_minor": 2
}
