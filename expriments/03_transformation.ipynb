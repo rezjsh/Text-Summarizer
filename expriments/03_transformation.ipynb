{
 "cells": [
  {
   "cell_type": "code",
   "execution_count": 1,
   "metadata": {},
   "outputs": [
    {
     "name": "stderr",
     "output_type": "stream",
     "text": [
      "c:\\Users\\reza\\miniconda3\\envs\\textS\\Lib\\site-packages\\tqdm\\auto.py:21: TqdmWarning: IProgress not found. Please update jupyter and ipywidgets. See https://ipywidgets.readthedocs.io/en/stable/user_install.html\n",
      "  from .autonotebook import tqdm as notebook_tqdm\n"
     ]
    }
   ],
   "source": [
    "import os\n",
    "from datasets import load_dataset, load_from_disk\n",
    "from transformers import AutoTokenizer\n",
    "from textsummarizer.logging import logger"
   ]
  },
  {
   "cell_type": "code",
   "execution_count": 2,
   "metadata": {},
   "outputs": [
    {
     "data": {
      "text/plain": [
       "'e:\\\\PROJECTS\\\\ML\\\\Text-Summarizer\\\\expriments'"
      ]
     },
     "execution_count": 2,
     "metadata": {},
     "output_type": "execute_result"
    }
   ],
   "source": [
    "%pwd"
   ]
  },
  {
   "cell_type": "code",
   "execution_count": 3,
   "metadata": {},
   "outputs": [
    {
     "name": "stdout",
     "output_type": "stream",
     "text": [
      "e:\\PROJECTS\\ML\\Text-Summarizer\n"
     ]
    },
    {
     "name": "stderr",
     "output_type": "stream",
     "text": [
      "c:\\Users\\reza\\miniconda3\\envs\\textS\\Lib\\site-packages\\IPython\\core\\magics\\osm.py:417: UserWarning: This is now an optional IPython functionality, setting dhist requires you to install the `pickleshare` library.\n",
      "  self.shell.db['dhist'] = compress_dhist(dhist)[-100:]\n"
     ]
    }
   ],
   "source": [
    "%cd .."
   ]
  },
  {
   "cell_type": "code",
   "execution_count": 4,
   "metadata": {},
   "outputs": [
    {
     "data": {
      "text/plain": [
       "'e:\\\\PROJECTS\\\\ML\\\\Text-Summarizer'"
      ]
     },
     "execution_count": 4,
     "metadata": {},
     "output_type": "execute_result"
    }
   ],
   "source": [
    "%pwd"
   ]
  },
  {
   "cell_type": "code",
   "execution_count": 5,
   "metadata": {},
   "outputs": [],
   "source": [
    "from dataclasses import dataclass\n",
    "from pathlib import Path\n",
    "\n",
    "\n",
    "@dataclass(frozen=True)\n",
    "class DataTransformation:\n",
    "    root_dir: Path\n",
    "    data_path: Path\n",
    "    tokenizer_name: str\n",
    "    do_train: bool = True\n",
    "    do_eval: bool =  True\n",
    "    do_predict: bool = True\n",
    "    text_column: str = \"dialogue\"\n",
    "    summary_column: str = \"summary\"\n",
    "    max_source_length: int = 1024\n",
    "    max_target_length: int = 128\n",
    "    padding: bool = False\n",
    "    ignore_pad_token_for_loss: bool = False\n",
    "\n",
    "    def convert(self):\n",
    "        samsum_dataset = load_from_disk(self.data_path)\n",
    "        column_names = samsum_dataset.column_names\n",
    "        if self.do_train:\n",
    "            train_dataset = samsum_dataset[\"train\"]\n",
    "            tokenized_train_datasets  = train_dataset.map(\n",
    "                            self.preprocess_function,\n",
    "                            batched=True,\n",
    "                            remove_columns=column_names['train'],\n",
    "                            desc=\"Running tokenizer on train dataset\",\n",
    "                        )\n",
    "            tokenized_train_datasets.save_to_disk(os.path.join(self.root_dir,\"train\"))\n",
    "\n",
    "        if self.do_eval:\n",
    "            validation_dataset = samsum_dataset[\"validation\"]\n",
    "            tokenized_val_datasets  = validation_dataset.map(\n",
    "                self.preprocess_function,\n",
    "                batched=True,\n",
    "                remove_columns=column_names['validation'],\n",
    "                desc=\"Running tokenizer on validation dataset\",\n",
    "            )\n",
    "            tokenized_val_datasets.save_to_disk(os.path.join(self.root_dir,\"validation\"))\n",
    "\n",
    "        if self.do_predict:\n",
    "            test_dataset = samsum_dataset[\"test\"]\n",
    "            tokenized_test_datasets  = test_dataset.map(\n",
    "                self.preprocess_function,\n",
    "                batched=True,\n",
    "                remove_columns=column_names['test'],\n",
    "                desc=\"Running tokenizer on test dataset\",\n",
    "            )\n",
    "            tokenized_test_datasets.save_to_disk(os.path.join(self.root_dir,\"test\"))\n",
    "\n",
    "    def preprocess_function(self, examples):\n",
    "        # remove pairs where at least one record is None\n",
    "        tokenizer = AutoTokenizer.from_pretrained(self.tokenizer_name)\n",
    "\n",
    "        inputs, targets = [], []\n",
    "        for i in range(len(examples[self.text_column])):\n",
    "            if examples[self.text_column][i] and examples[self.summary_column][i]:\n",
    "                inputs.append(examples[self.text_column][i])\n",
    "                targets.append(examples[self.summary_column][i])\n",
    "\n",
    "        model_inputs = tokenizer(inputs, max_length=self.max_source_length, padding=self.padding, truncation=True)\n",
    "\n",
    "        # Tokenize targets with the `text_target` keyword argument\n",
    "        labels = tokenizer(text_target=targets, max_length=self.max_target_length, padding=self.padding, truncation=True)\n",
    "\n",
    "        # If we are padding here, replace all tokenizer.pad_token_id in the labels by -100 when we want to ignore\n",
    "        # padding in the loss.\n",
    "        if self.padding == \"max_length\" and self.ignore_pad_token_for_loss:\n",
    "            labels[\"input_ids\"] = [\n",
    "                [(l if l != tokenizer.pad_token_id else -100) for l in label] for label in labels[\"input_ids\"]\n",
    "            ]\n",
    "\n",
    "        model_inputs[\"labels\"] = labels[\"input_ids\"]\n",
    "        return model_inputs\n",
    "    "
   ]
  },
  {
   "cell_type": "code",
   "execution_count": 6,
   "metadata": {},
   "outputs": [],
   "source": [
    "from textsummarizer.constants import *\n",
    "from textsummarizer.utils.common import read_yaml, create_directories\n"
   ]
  },
  {
   "cell_type": "code",
   "execution_count": 7,
   "metadata": {},
   "outputs": [],
   "source": [
    "class ConfigHandler:\n",
    "    def __init__(\n",
    "        self,\n",
    "        config_filepath=CONFIG_FILE_PATH,\n",
    "        params_filepath=PARAMS_FILE_PATH):\n",
    "        \"\"\"\n",
    "        Initialize the ConfigHandler with the provided configuration and parameters file paths.\n",
    "\n",
    "        Args:\n",
    "            config_filepath: Path to the configuration file (default: CONFIG_FILE_PATH)\n",
    "            params_filepath: Path to the parameters file (default: PARAMS_FILE_PATH)\n",
    "\n",
    "        Returns:\n",
    "            None\n",
    "\n",
    "        \"\"\"\n",
    "        self.config = self._load_config(config_filepath)  # Load the configuration from the specified file\n",
    "        self.params = self._load_params(params_filepath)  # Load the parameters from the specified file\n",
    "\n",
    "        create_directories([self.config.artifacts_root])  # Create necessary directories based on the configuration\n",
    "\n",
    "    def _load_config(self, config_filepath):\n",
    "        \"\"\"\n",
    "        Load the configuration from the specified YAML file.\n",
    "\n",
    "        Args:\n",
    "            config_filepath: Path to the configuration file\n",
    "\n",
    "        Returns:\n",
    "            The loaded configuration as a dictionary\n",
    "\n",
    "        \"\"\"\n",
    "        return read_yaml(config_filepath)  # Read and return the configuration from the YAML file\n",
    "\n",
    "    def _load_params(self, params_filepath):\n",
    "        \"\"\"\n",
    "        Load the parameters from the specified YAML file.\n",
    "\n",
    "        Args:\n",
    "            params_filepath: Path to the parameters file\n",
    "\n",
    "        Returns:\n",
    "            The loaded parameters as a dictionary\n",
    "\n",
    "        \"\"\"\n",
    "        return read_yaml(params_filepath)  # Read and return the parameters from the YAML file\n",
    "\n",
    "    \n",
    "    def get_data_transformation_config(self) -> DataTransformation:\n",
    "        config = self.config.data_transformation\n",
    "        common = self.params.CommonParams\n",
    "\n",
    "        create_directories([config.root_dir])\n",
    "\n",
    "        data_transformation_config = DataTransformation(\n",
    "            root_dir=config.root_dir,\n",
    "            data_path=config.data_path,\n",
    "            tokenizer_name=config.tokenizer_name,\n",
    "            do_train=common.do_train,\n",
    "            do_eval=common.do_eval,\n",
    "            do_predict=common.do_predict,\n",
    "            text_column=common.text_column,\n",
    "            summary_column=common.summary_column,\n",
    "            max_source_length=common.max_source_length,\n",
    "            max_target_length=common.max_target_length,\n",
    "            padding=common.padding,\n",
    "            ignore_pad_token_for_loss=common.ignore_pad_token_for_loss,\n",
    "        )\n",
    "\n",
    "        return data_transformation_config"
   ]
  },
  {
   "cell_type": "code",
   "execution_count": 8,
   "metadata": {},
   "outputs": [
    {
     "name": "stdout",
     "output_type": "stream",
     "text": [
      "[2024-04-22 12:00:05,546: INFO: common: Yaml file: config\\config.yaml loaded successfully]\n",
      "[2024-04-22 12:00:05,566: INFO: common: Yaml file: params.yaml loaded successfully]\n",
      "[2024-04-22 12:00:05,571: INFO: common: Created directory at: artifacts]\n",
      "[2024-04-22 12:00:05,581: INFO: common: Created directory at: artifacts/data_transformation]\n"
     ]
    },
    {
     "name": "stderr",
     "output_type": "stream",
     "text": [
      "c:\\Users\\reza\\miniconda3\\envs\\textS\\Lib\\site-packages\\dill\\_dill.py:414: PicklingWarning: Cannot locate reference to <class '__main__.DataTransformation'>.\n",
      "  StockPickler.save(self, obj, save_persistent_id)\n",
      "c:\\Users\\reza\\miniconda3\\envs\\textS\\Lib\\site-packages\\dill\\_dill.py:414: PicklingWarning: Cannot pickle <class '__main__.DataTransformation'>: __main__.DataTransformation has recursive self-references that trigger a RecursionError.\n",
      "  StockPickler.save(self, obj, save_persistent_id)\n",
      "Running tokenizer on train dataset: 100%|██████████| 14732/14732 [01:41<00:00, 144.53 examples/s]\n",
      "Saving the dataset (1/1 shards): 100%|██████████| 14731/14731 [00:00<00:00, 83542.07 examples/s]\n",
      "Running tokenizer on validation dataset: 100%|██████████| 818/818 [00:05<00:00, 158.32 examples/s]\n",
      "Saving the dataset (1/1 shards): 100%|██████████| 818/818 [00:00<00:00, 19025.48 examples/s]\n",
      "Running tokenizer on test dataset: 100%|██████████| 819/819 [00:11<00:00, 72.43 examples/s]\n",
      "Saving the dataset (1/1 shards): 100%|██████████| 819/819 [00:00<00:00, 32761.44 examples/s]\n"
     ]
    }
   ],
   "source": [
    "try:\n",
    "    config = ConfigHandler()\n",
    "    data_transformation_config = config.get_data_transformation_config()\n",
    "    data_transformation_config.convert()\n",
    "except Exception as e:\n",
    "    raise e"
   ]
  },
  {
   "cell_type": "code",
   "execution_count": null,
   "metadata": {},
   "outputs": [],
   "source": []
  }
 ],
 "metadata": {
  "kernelspec": {
   "display_name": "textS",
   "language": "python",
   "name": "python3"
  },
  "language_info": {
   "codemirror_mode": {
    "name": "ipython",
    "version": 3
   },
   "file_extension": ".py",
   "mimetype": "text/x-python",
   "name": "python",
   "nbconvert_exporter": "python",
   "pygments_lexer": "ipython3",
   "version": "3.12.2"
  }
 },
 "nbformat": 4,
 "nbformat_minor": 2
}
