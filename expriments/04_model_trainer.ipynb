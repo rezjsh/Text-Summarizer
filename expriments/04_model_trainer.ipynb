{
 "cells": [
  {
   "cell_type": "code",
   "execution_count": null,
   "metadata": {},
   "outputs": [],
   "source": [
    "import os\n",
    "from textsummarizer.constants import *\n",
    "from textsummarizer.utils.common import read_yaml, create_directories"
   ]
  },
  {
   "cell_type": "code",
   "execution_count": null,
   "metadata": {},
   "outputs": [],
   "source": [
    "%pwd"
   ]
  },
  {
   "cell_type": "code",
   "execution_count": null,
   "metadata": {},
   "outputs": [],
   "source": [
    "%cd .."
   ]
  },
  {
   "cell_type": "code",
   "execution_count": null,
   "metadata": {},
   "outputs": [],
   "source": [
    "%pwd"
   ]
  },
  {
   "cell_type": "code",
   "execution_count": null,
   "metadata": {},
   "outputs": [],
   "source": [
    "from transformers import TrainingArguments, Trainer\n",
    "from transformers import DataCollatorForSeq2Seq\n",
    "from transformers import AutoModelForSeq2SeqLM, AutoTokenizer\n",
    "from datasets import  load_from_disk\n",
    "import torch"
   ]
  },
  {
   "cell_type": "code",
   "execution_count": null,
   "metadata": {},
   "outputs": [],
   "source": [
    "from dataclasses import dataclass\n",
    "from pathlib import Path\n",
    "\n",
    "\n",
    "@dataclass(frozen=True)\n",
    "class ModelTrainer:\n",
    "    root_dir: Path \n",
    "    data_path: Path\n",
    "    model_ckpt: str\n",
    "    num_train_epochs: int = 1\n",
    "    warmup_steps: int = 500\n",
    "    per_device_train_batch_size: int = 1\n",
    "    per_device_eval_batch_size: int = 1\n",
    "    weight_decay: float = 0.01\n",
    "    logging_steps: int = 10\n",
    "    evaluation_strategy: str = 'steps'\n",
    "    eval_steps: int = 500\n",
    "    save_steps: float = 1e6\n",
    "    gradient_accumulation_steps: int = 16\n",
    "\n",
    "\n",
    "    \n",
    "    def train(self):\n",
    "        device = \"cuda\" if torch.cuda.is_available() else \"cpu\"\n",
    "        tokenizer = AutoTokenizer.from_pretrained(self.model_ckpt)\n",
    "        model_pegasus = AutoModelForSeq2SeqLM.from_pretrained(self.model_ckpt).to(device)\n",
    "        seq2seq_data_collator = DataCollatorForSeq2Seq(tokenizer, model=model_pegasus)\n",
    "        \n",
    "        #loading data \n",
    "        dataset_samsum_pt = load_from_disk(self.data_path)\n",
    "\n",
    "        trainer_args = TrainingArguments(\n",
    "            output_dir=self.root_dir, num_train_epochs=self.num_train_epochs, warmup_steps=self.warmup_steps,\n",
    "            per_device_train_batch_size=self.per_device_train_batch_size, per_device_eval_batch_size=self.per_device_train_batch_size,\n",
    "            weight_decay=self.weight_decay, logging_steps=self.logging_steps,\n",
    "            evaluation_strategy=self.evaluation_strategy, eval_steps=self.eval_steps, save_steps=1e6,\n",
    "            gradient_accumulation_steps=self.gradient_accumulation_steps\n",
    "        ) \n",
    "\n",
    "\n",
    "        trainer = Trainer(model=model_pegasus, args=trainer_args,\n",
    "                  tokenizer=tokenizer, data_collator=seq2seq_data_collator,\n",
    "                  train_dataset=dataset_samsum_pt[\"test\"], \n",
    "                  eval_dataset=dataset_samsum_pt[\"validation\"])\n",
    "        \n",
    "        trainer.train()\n",
    "\n",
    "        ## Save model\n",
    "        model_pegasus.save_pretrained(os.path.join(self.root_dir,\"pegasus-samsum-model\"))\n",
    "        ## Save tokenizer\n",
    "        tokenizer.save_pretrained(os.path.join(self.root_dir,\"tokenizer\"))"
   ]
  },
  {
   "cell_type": "code",
   "execution_count": null,
   "metadata": {},
   "outputs": [],
   "source": [
    "class ConfigHandler:\n",
    "    def __init__(\n",
    "        self,\n",
    "        config_filepath=CONFIG_FILE_PATH,\n",
    "        params_filepath=PARAMS_FILE_PATH):\n",
    "        \"\"\"\n",
    "        Initialize the ConfigHandler with the provided configuration and parameters file paths.\n",
    "\n",
    "        Args:\n",
    "            config_filepath: Path to the configuration file (default: CONFIG_FILE_PATH)\n",
    "            params_filepath: Path to the parameters file (default: PARAMS_FILE_PATH)\n",
    "\n",
    "        Returns:\n",
    "            None\n",
    "\n",
    "        \"\"\"\n",
    "        self.config = self._load_config(config_filepath)  # Load the configuration from the specified file\n",
    "        self.params = self._load_params(params_filepath)  # Load the parameters from the specified file\n",
    "\n",
    "        create_directories([self.config.artifacts_root])  # Create necessary directories based on the configuration\n",
    "\n",
    "    def _load_config(self, config_filepath):\n",
    "        \"\"\"\n",
    "        Load the configuration from the specified YAML file.\n",
    "\n",
    "        Args:\n",
    "            config_filepath: Path to the configuration file\n",
    "\n",
    "        Returns:\n",
    "            The loaded configuration as a dictionary\n",
    "\n",
    "        \"\"\"\n",
    "        return read_yaml(config_filepath)  # Read and return the configuration from the YAML file\n",
    "\n",
    "    def _load_params(self, params_filepath):\n",
    "        \"\"\"\n",
    "        Load the parameters from the specified YAML file.\n",
    "\n",
    "        Args:\n",
    "            params_filepath: Path to the parameters file\n",
    "\n",
    "        Returns:\n",
    "            The loaded parameters as a dictionary\n",
    "\n",
    "        \"\"\"\n",
    "        return read_yaml(params_filepath)  # Read and return the parameters from the YAML file\n",
    "\n",
    "    \n",
    "    \n",
    "    def get_model_trainer_config(self) -> ModelTrainer:\n",
    "        config = self.config.model_trainer\n",
    "        params = self.params.TrainingArguments\n",
    "\n",
    "        create_directories([config.root_dir])\n",
    "\n",
    "        model_trainer_config = ModelTrainer(\n",
    "            root_dir=config.root_dir,\n",
    "            data_path=config.data_path,\n",
    "            model_ckpt = config.model_ckpt,\n",
    "            num_train_epochs = params.num_train_epochs,\n",
    "            warmup_steps = params.warmup_steps,\n",
    "            per_device_train_batch_size = params.per_device_train_batch_size,\n",
    "            weight_decay = params.weight_decay,\n",
    "            logging_steps = params.logging_steps,\n",
    "            evaluation_strategy = params.evaluation_strategy,\n",
    "            eval_steps = params.evaluation_strategy,\n",
    "            save_steps = params.save_steps,\n",
    "            gradient_accumulation_steps = params.gradient_accumulation_steps\n",
    "        )\n",
    "\n",
    "        return model_trainer_config"
   ]
  },
  {
   "cell_type": "code",
   "execution_count": null,
   "metadata": {},
   "outputs": [],
   "source": [
    "try:\n",
    "    config = ConfigHandler()\n",
    "    model_trainer = config.get_model_trainer_config()\n",
    "    model_trainer.train()\n",
    "except Exception as e:\n",
    "    raise e"
   ]
  }
 ],
 "metadata": {
  "kernelspec": {
   "display_name": "textS",
   "language": "python",
   "name": "python3"
  },
  "language_info": {
   "codemirror_mode": {
    "name": "ipython",
    "version": 3
   },
   "file_extension": ".py",
   "mimetype": "text/x-python",
   "name": "python",
   "nbconvert_exporter": "python",
   "pygments_lexer": "ipython3",
   "version": "3.12.2"
  }
 },
 "nbformat": 4,
 "nbformat_minor": 2
}
