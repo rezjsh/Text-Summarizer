{
 "cells": [
  {
   "cell_type": "code",
   "execution_count": null,
   "metadata": {},
   "outputs": [],
   "source": [
    "import os"
   ]
  },
  {
   "cell_type": "code",
   "execution_count": null,
   "metadata": {},
   "outputs": [],
   "source": [
    "%pwd"
   ]
  },
  {
   "cell_type": "code",
   "execution_count": null,
   "metadata": {},
   "outputs": [],
   "source": [
    "%cd .."
   ]
  },
  {
   "cell_type": "code",
   "execution_count": null,
   "metadata": {},
   "outputs": [],
   "source": [
    "%pwd"
   ]
  },
  {
   "cell_type": "code",
   "execution_count": null,
   "metadata": {},
   "outputs": [],
   "source": [
    "from textsummarizer.constants import *\n",
    "from textsummarizer.utils.common import read_yaml, create_directories"
   ]
  },
  {
   "cell_type": "code",
   "execution_count": null,
   "metadata": {},
   "outputs": [],
   "source": [
    "from dataclasses import dataclass\n",
    "from pathlib import Path\n",
    "from datetime import datetime\n",
    "import pandas as pd\n",
    "\n",
    "\n",
    "@dataclass(frozen=True)\n",
    "class DataVerification:\n",
    "    root_dir: Path\n",
    "    STATUS_FILE: str\n",
    "    INFO_FILE: str\n",
    "    ALL_REQUIRED_FILES: list\n",
    "\n",
    "\n",
    "    def verify_all_files_exist(self)-> bool:\n",
    "        try:\n",
    "            verification_status = None\n",
    "\n",
    "            all_files = os.listdir(os.path.join(\"artifacts\",\"data_acquisition\",\"samsum_dataset\"))\n",
    "\n",
    "            for file in all_files:\n",
    "                if file not in self.ALL_REQUIRED_FILES:\n",
    "                    verification_status = False\n",
    "                    with open(self.STATUS_FILE, 'w') as f:\n",
    "                        f.write(f\"Verification status: {verification_status}\")\n",
    "                else:\n",
    "                    verification_status = True\n",
    "                    with open(self.STATUS_FILE, 'w') as f:\n",
    "                        f.write(f\"Verification status: {verification_status}\")\n",
    "\n",
    "            return verification_status\n",
    "        \n",
    "        except Exception as e:\n",
    "            raise e\n",
    "\n",
    "    def get_csv_files_info(self):\n",
    "        try:\n",
    "            folder_path = os.path.join(\"artifacts\", \"data_acquisition\")\n",
    "            with open(self.INFO_FILE, 'w') as f:  # Open the file in write mode to clear previous content\n",
    "                f.write(\"CSV File Metadata:\\n\")\n",
    "\n",
    "            for file_name in os.listdir(folder_path):\n",
    "                if file_name.endswith('.csv'):\n",
    "                    file_path = os.path.join(folder_path, file_name)\n",
    "                    file_size = os.path.getsize(file_path)\n",
    "\n",
    "                    # Read the CSV file using pandas to extract additional metadata\n",
    "                    df = pd.read_csv(file_path)\n",
    "                    num_rows = len(df)\n",
    "                    data_types = df.dtypes\n",
    "                    \n",
    "\n",
    "                    # Get the creation/modification date of the file\n",
    "                    modification_time = os.path.getmtime(file_path)\n",
    "                    modification_date = datetime.fromtimestamp(modification_time).strftime('%Y-%m-%d %H:%M:%S')\n",
    "\n",
    "                    with open(self.INFO_FILE, 'a') as f:  # Open the file in append mode to add metadata\n",
    "                        f.write(f\"File Name: {file_name}\\n\")\n",
    "                        f.write(f\"File Size: {file_size} bytes\\n\")\n",
    "                        f.write(f\"Number of Rows: {num_rows}\\n\")\n",
    "                        f.write(f\"Data Types:\\n{data_types}\\n\")\n",
    "                        f.write(f\"Last Modified: {modification_date}\\n\\n\")\n",
    "                        f.write(\"************************************\")\n",
    "                        f.write(\"************************************\\n\\n\\n\")\n",
    "        except Exception as e:\n",
    "            raise e\n",
    "\n",
    "  "
   ]
  },
  {
   "cell_type": "code",
   "execution_count": null,
   "metadata": {},
   "outputs": [],
   "source": [
    "class ConfigHandler:\n",
    "    def __init__(\n",
    "        self,\n",
    "        config_filepath=CONFIG_FILE_PATH,\n",
    "        params_filepath=PARAMS_FILE_PATH):\n",
    "        \"\"\"\n",
    "        Initialize the ConfigHandler with the provided configuration and parameters file paths.\n",
    "\n",
    "        Args:\n",
    "            config_filepath: Path to the configuration file (default: CONFIG_FILE_PATH)\n",
    "            params_filepath: Path to the parameters file (default: PARAMS_FILE_PATH)\n",
    "\n",
    "        Returns:\n",
    "            None\n",
    "\n",
    "        \"\"\"\n",
    "        self.config = self._load_config(config_filepath)  # Load the configuration from the specified file\n",
    "        self.params = self._load_params(params_filepath)  # Load the parameters from the specified file\n",
    "\n",
    "        create_directories([self.config.artifacts_root])  # Create necessary directories based on the configuration\n",
    "\n",
    "    def _load_config(self, config_filepath):\n",
    "        \"\"\"\n",
    "        Load the configuration from the specified YAML file.\n",
    "\n",
    "        Args:\n",
    "            config_filepath: Path to the configuration file\n",
    "\n",
    "        Returns:\n",
    "            The loaded configuration as a dictionary\n",
    "\n",
    "        \"\"\"\n",
    "        return read_yaml(config_filepath)  # Read and return the configuration from the YAML file\n",
    "\n",
    "    def _load_params(self, params_filepath):\n",
    "        \"\"\"\n",
    "        Load the parameters from the specified YAML file.\n",
    "\n",
    "        Args:\n",
    "            params_filepath: Path to the parameters file\n",
    "\n",
    "        Returns:\n",
    "            The loaded parameters as a dictionary\n",
    "\n",
    "        \"\"\"\n",
    "        return read_yaml(params_filepath)  # Read and return the parameters from the YAML file\n",
    "\n",
    "    \n",
    "    def get_data_verification_config(self) -> DataVerification:\n",
    "        config = self.config.data_verification\n",
    "\n",
    "        create_directories([config.root_dir])\n",
    "\n",
    "        data_verification_config = DataVerification(\n",
    "            root_dir=config.root_dir,\n",
    "            STATUS_FILE=config.STATUS_FILE,\n",
    "            INFO_FILE=config.INFO_FILE,\n",
    "            ALL_REQUIRED_FILES=config.ALL_REQUIRED_FILES,\n",
    "        )\n",
    "\n",
    "        return data_verification_config\n"
   ]
  },
  {
   "cell_type": "code",
   "execution_count": null,
   "metadata": {},
   "outputs": [],
   "source": [
    "import os\n",
    "from textsummarizer.logging import logger"
   ]
  },
  {
   "cell_type": "code",
   "execution_count": null,
   "metadata": {},
   "outputs": [],
   "source": [
    "try:\n",
    "    config = ConfigHandler()\n",
    "    data_verification = config.get_data_verification_config()\n",
    "    data_verification.verify_all_files_exist()\n",
    "    data_verification.get_csv_files_info()\n",
    "except Exception as e:\n",
    "    raise e"
   ]
  }
 ],
 "metadata": {
  "kernelspec": {
   "display_name": "textS",
   "language": "python",
   "name": "python3"
  },
  "language_info": {
   "codemirror_mode": {
    "name": "ipython",
    "version": 3
   },
   "file_extension": ".py",
   "mimetype": "text/x-python",
   "name": "python",
   "nbconvert_exporter": "python",
   "pygments_lexer": "ipython3",
   "version": "3.12.2"
  }
 },
 "nbformat": 4,
 "nbformat_minor": 2
}
